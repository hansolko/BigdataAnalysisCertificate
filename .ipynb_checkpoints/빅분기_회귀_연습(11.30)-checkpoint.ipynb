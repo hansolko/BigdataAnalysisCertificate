{
 "cells": [
  {
   "cell_type": "markdown",
   "id": "c44c964e",
   "metadata": {},
   "source": [
    "# 패키지 불러오기"
   ]
  },
  {
   "cell_type": "code",
   "execution_count": 86,
   "id": "46848dc7",
   "metadata": {},
   "outputs": [],
   "source": [
    "import pandas as pd\n",
    "import numpy as np\n",
    "import warnings\n",
    "warnings.filterwarnings('ignore')"
   ]
  },
  {
   "cell_type": "code",
   "execution_count": 91,
   "id": "eb7043c5",
   "metadata": {},
   "outputs": [],
   "source": [
    "# 사이킷런 패키지\n",
    "from sklearn.preprocessing import MinMaxScaler\n",
    "from sklearn.model_selection import train_test_split\n",
    "from sklearn.model_selection import cross_val_score\n",
    "from sklearn.ensemble import RandomForestRegressor\n",
    "from sklearn.neighbors import KNeighborsRegressor\n",
    "from sklearn.metrics import mean_squared_error\n",
    "import xgboost"
   ]
  },
  {
   "cell_type": "markdown",
   "id": "95d8640a",
   "metadata": {},
   "source": [
    "# 데이터 불러오기"
   ]
  },
  {
   "cell_type": "code",
   "execution_count": 3,
   "id": "4ae4ce96",
   "metadata": {},
   "outputs": [
    {
     "data": {
      "text/html": [
       "<div>\n",
       "<style scoped>\n",
       "    .dataframe tbody tr th:only-of-type {\n",
       "        vertical-align: middle;\n",
       "    }\n",
       "\n",
       "    .dataframe tbody tr th {\n",
       "        vertical-align: top;\n",
       "    }\n",
       "\n",
       "    .dataframe thead th {\n",
       "        text-align: right;\n",
       "    }\n",
       "</style>\n",
       "<table border=\"1\" class=\"dataframe\">\n",
       "  <thead>\n",
       "    <tr style=\"text-align: right;\">\n",
       "      <th></th>\n",
       "      <th>housing_age</th>\n",
       "      <th>income</th>\n",
       "      <th>bedrooms</th>\n",
       "      <th>households</th>\n",
       "      <th>rooms</th>\n",
       "      <th>house_value</th>\n",
       "    </tr>\n",
       "  </thead>\n",
       "  <tbody>\n",
       "    <tr>\n",
       "      <th>0</th>\n",
       "      <td>23</td>\n",
       "      <td>6.7770</td>\n",
       "      <td>0.141112</td>\n",
       "      <td>2.442244</td>\n",
       "      <td>8.103960</td>\n",
       "      <td>500000</td>\n",
       "    </tr>\n",
       "    <tr>\n",
       "      <th>1</th>\n",
       "      <td>49</td>\n",
       "      <td>6.0199</td>\n",
       "      <td>0.160984</td>\n",
       "      <td>2.726688</td>\n",
       "      <td>5.752412</td>\n",
       "      <td>500000</td>\n",
       "    </tr>\n",
       "    <tr>\n",
       "      <th>2</th>\n",
       "      <td>35</td>\n",
       "      <td>5.1155</td>\n",
       "      <td>0.249061</td>\n",
       "      <td>1.902676</td>\n",
       "      <td>3.888078</td>\n",
       "      <td>500000</td>\n",
       "    </tr>\n",
       "    <tr>\n",
       "      <th>3</th>\n",
       "      <td>32</td>\n",
       "      <td>4.7109</td>\n",
       "      <td>0.231383</td>\n",
       "      <td>1.913669</td>\n",
       "      <td>4.508393</td>\n",
       "      <td>500000</td>\n",
       "    </tr>\n",
       "    <tr>\n",
       "      <th>4</th>\n",
       "      <td>21</td>\n",
       "      <td>4.5625</td>\n",
       "      <td>0.255583</td>\n",
       "      <td>3.092664</td>\n",
       "      <td>4.667954</td>\n",
       "      <td>500000</td>\n",
       "    </tr>\n",
       "  </tbody>\n",
       "</table>\n",
       "</div>"
      ],
      "text/plain": [
       "   housing_age  income  bedrooms  households     rooms  house_value\n",
       "0           23  6.7770  0.141112    2.442244  8.103960       500000\n",
       "1           49  6.0199  0.160984    2.726688  5.752412       500000\n",
       "2           35  5.1155  0.249061    1.902676  3.888078       500000\n",
       "3           32  4.7109  0.231383    1.913669  4.508393       500000\n",
       "4           21  4.5625  0.255583    3.092664  4.667954       500000"
      ]
     },
     "execution_count": 3,
     "metadata": {},
     "output_type": "execute_result"
    }
   ],
   "source": [
    "data = pd.read_csv('house_price.csv')\n",
    "data.head()"
   ]
  },
  {
   "cell_type": "code",
   "execution_count": 29,
   "id": "4354885a",
   "metadata": {},
   "outputs": [
    {
     "data": {
      "text/plain": [
       "housing_age      int64\n",
       "income         float64\n",
       "bedrooms       float64\n",
       "households     float64\n",
       "rooms          float64\n",
       "house_value      int64\n",
       "dtype: object"
      ]
     },
     "execution_count": 29,
     "metadata": {},
     "output_type": "execute_result"
    }
   ],
   "source": [
    "data.dtypes"
   ]
  },
  {
   "cell_type": "code",
   "execution_count": 4,
   "id": "a4e92f71",
   "metadata": {},
   "outputs": [
    {
     "data": {
      "text/html": [
       "<div>\n",
       "<style scoped>\n",
       "    .dataframe tbody tr th:only-of-type {\n",
       "        vertical-align: middle;\n",
       "    }\n",
       "\n",
       "    .dataframe tbody tr th {\n",
       "        vertical-align: top;\n",
       "    }\n",
       "\n",
       "    .dataframe thead th {\n",
       "        text-align: right;\n",
       "    }\n",
       "</style>\n",
       "<table border=\"1\" class=\"dataframe\">\n",
       "  <thead>\n",
       "    <tr style=\"text-align: right;\">\n",
       "      <th></th>\n",
       "      <th>housing_age</th>\n",
       "      <th>income</th>\n",
       "      <th>bedrooms</th>\n",
       "      <th>households</th>\n",
       "      <th>rooms</th>\n",
       "      <th>house_value</th>\n",
       "    </tr>\n",
       "  </thead>\n",
       "  <tbody>\n",
       "    <tr>\n",
       "      <th>count</th>\n",
       "      <td>17689.000000</td>\n",
       "      <td>17689.000000</td>\n",
       "      <td>17689.000000</td>\n",
       "      <td>17689.000000</td>\n",
       "      <td>17689.000000</td>\n",
       "      <td>17689.000000</td>\n",
       "    </tr>\n",
       "    <tr>\n",
       "      <th>mean</th>\n",
       "      <td>27.378823</td>\n",
       "      <td>3.671141</td>\n",
       "      <td>0.213278</td>\n",
       "      <td>2.952117</td>\n",
       "      <td>5.244001</td>\n",
       "      <td>189043.439313</td>\n",
       "    </tr>\n",
       "    <tr>\n",
       "      <th>std</th>\n",
       "      <td>11.280230</td>\n",
       "      <td>1.525937</td>\n",
       "      <td>0.051167</td>\n",
       "      <td>0.731573</td>\n",
       "      <td>1.184922</td>\n",
       "      <td>95487.122628</td>\n",
       "    </tr>\n",
       "    <tr>\n",
       "      <th>min</th>\n",
       "      <td>1.000000</td>\n",
       "      <td>0.499900</td>\n",
       "      <td>0.100000</td>\n",
       "      <td>0.750000</td>\n",
       "      <td>1.640000</td>\n",
       "      <td>14999.000000</td>\n",
       "    </tr>\n",
       "    <tr>\n",
       "      <th>25%</th>\n",
       "      <td>18.000000</td>\n",
       "      <td>2.532900</td>\n",
       "      <td>0.177464</td>\n",
       "      <td>2.470270</td>\n",
       "      <td>4.426829</td>\n",
       "      <td>114400.000000</td>\n",
       "    </tr>\n",
       "    <tr>\n",
       "      <th>50%</th>\n",
       "      <td>28.000000</td>\n",
       "      <td>3.453900</td>\n",
       "      <td>0.204104</td>\n",
       "      <td>2.854962</td>\n",
       "      <td>5.190779</td>\n",
       "      <td>171100.000000</td>\n",
       "    </tr>\n",
       "    <tr>\n",
       "      <th>75%</th>\n",
       "      <td>36.000000</td>\n",
       "      <td>4.591800</td>\n",
       "      <td>0.240157</td>\n",
       "      <td>3.316092</td>\n",
       "      <td>5.953728</td>\n",
       "      <td>242700.000000</td>\n",
       "    </tr>\n",
       "    <tr>\n",
       "      <th>max</th>\n",
       "      <td>51.000000</td>\n",
       "      <td>9.905500</td>\n",
       "      <td>0.498127</td>\n",
       "      <td>6.954023</td>\n",
       "      <td>11.901869</td>\n",
       "      <td>500000.000000</td>\n",
       "    </tr>\n",
       "  </tbody>\n",
       "</table>\n",
       "</div>"
      ],
      "text/plain": [
       "        housing_age        income      bedrooms    households         rooms  \\\n",
       "count  17689.000000  17689.000000  17689.000000  17689.000000  17689.000000   \n",
       "mean      27.378823      3.671141      0.213278      2.952117      5.244001   \n",
       "std       11.280230      1.525937      0.051167      0.731573      1.184922   \n",
       "min        1.000000      0.499900      0.100000      0.750000      1.640000   \n",
       "25%       18.000000      2.532900      0.177464      2.470270      4.426829   \n",
       "50%       28.000000      3.453900      0.204104      2.854962      5.190779   \n",
       "75%       36.000000      4.591800      0.240157      3.316092      5.953728   \n",
       "max       51.000000      9.905500      0.498127      6.954023     11.901869   \n",
       "\n",
       "         house_value  \n",
       "count   17689.000000  \n",
       "mean   189043.439313  \n",
       "std     95487.122628  \n",
       "min     14999.000000  \n",
       "25%    114400.000000  \n",
       "50%    171100.000000  \n",
       "75%    242700.000000  \n",
       "max    500000.000000  "
      ]
     },
     "execution_count": 4,
     "metadata": {},
     "output_type": "execute_result"
    }
   ],
   "source": [
    "data.describe()"
   ]
  },
  {
   "cell_type": "code",
   "execution_count": 5,
   "id": "4e967ab3",
   "metadata": {},
   "outputs": [
    {
     "data": {
      "text/plain": [
       "array([[<AxesSubplot:title={'center':'housing_age'}>,\n",
       "        <AxesSubplot:title={'center':'income'}>],\n",
       "       [<AxesSubplot:title={'center':'bedrooms'}>,\n",
       "        <AxesSubplot:title={'center':'households'}>],\n",
       "       [<AxesSubplot:title={'center':'rooms'}>,\n",
       "        <AxesSubplot:title={'center':'house_value'}>]], dtype=object)"
      ]
     },
     "execution_count": 5,
     "metadata": {},
     "output_type": "execute_result"
    },
    {
     "data": {
      "image/png": "[encoded data removed]",
      "text/plain": [
       "<Figure size 432x288 with 6 Axes>"
      ]
     },
     "metadata": {
      "needs_background": "light"
     },
     "output_type": "display_data"
    }
   ],
   "source": [
    "data.hist()"
   ]
  },
  {
   "cell_type": "markdown",
   "id": "17aba5f8",
   "metadata": {},
   "source": [
    "# 데이터 전처리"
   ]
  },
  {
   "cell_type": "markdown",
   "id": "cc39e1d6",
   "metadata": {},
   "source": [
    "## 결측치 확인\n",
    "있으면, `fillna()`로 대체하거나, `dropna()`로 제거"
   ]
  },
  {
   "cell_type": "code",
   "execution_count": 57,
   "id": "aec4b00d",
   "metadata": {},
   "outputs": [
    {
     "data": {
      "text/plain": [
       "housing_age    0\n",
       "income         0\n",
       "bedrooms       0\n",
       "households     0\n",
       "rooms          0\n",
       "house_value    0\n",
       "dtype: int64"
      ]
     },
     "execution_count": 57,
     "metadata": {},
     "output_type": "execute_result"
    }
   ],
   "source": [
    "data.isnull().sum()"
   ]
  },
  {
   "cell_type": "markdown",
   "id": "9e10b72f",
   "metadata": {},
   "source": [
    "## X, y 나누기"
   ]
  },
  {
   "cell_type": "code",
   "execution_count": 58,
   "id": "46317424",
   "metadata": {},
   "outputs": [
    {
     "data": {
      "text/plain": [
       "Index(['housing_age', 'income', 'bedrooms', 'households', 'rooms',\n",
       "       'house_value'],\n",
       "      dtype='object')"
      ]
     },
     "execution_count": 58,
     "metadata": {},
     "output_type": "execute_result"
    }
   ],
   "source": [
    "data.columns"
   ]
  },
  {
   "cell_type": "code",
   "execution_count": 59,
   "id": "64ceca2e",
   "metadata": {},
   "outputs": [],
   "source": [
    "X = data[['housing_age', 'income', 'bedrooms', 'households', 'rooms']]\n",
    "y = data[['house_value']]"
   ]
  },
  {
   "cell_type": "markdown",
   "id": "fba74d8a",
   "metadata": {},
   "source": [
    "## Train / Test set split"
   ]
  },
  {
   "cell_type": "code",
   "execution_count": 60,
   "id": "547a91dd",
   "metadata": {},
   "outputs": [],
   "source": [
    "X_train, X_test, y_train, y_test = train_test_split(X, y, random_state = 123)"
   ]
  },
  {
   "cell_type": "markdown",
   "id": "2b27ce09",
   "metadata": {},
   "source": [
    "## X에 대해 수치형 데이터 스케일링"
   ]
  },
  {
   "cell_type": "code",
   "execution_count": 61,
   "id": "216481ce",
   "metadata": {},
   "outputs": [],
   "source": [
    "scaler = MinMaxScaler()\n",
    "\n",
    "# Train set\n",
    "scaler.fit(X_train)\n",
    "scale_X_train = scaler.transform(X_train)\n",
    "\n",
    "# Test set\n",
    "scaler.fit(X_test)\n",
    "scale_X_test = scaler.transform(X_test)"
   ]
  },
  {
   "cell_type": "code",
   "execution_count": 65,
   "id": "2346e25c",
   "metadata": {},
   "outputs": [
    {
     "data": {
      "text/plain": [
       "(13266, 5)"
      ]
     },
     "execution_count": 65,
     "metadata": {},
     "output_type": "execute_result"
    }
   ],
   "source": [
    "scale_X_train.shape"
   ]
  },
  {
   "cell_type": "code",
   "execution_count": 66,
   "id": "13988a33",
   "metadata": {},
   "outputs": [
    {
     "data": {
      "text/plain": [
       "(4423, 5)"
      ]
     },
     "execution_count": 66,
     "metadata": {},
     "output_type": "execute_result"
    }
   ],
   "source": [
    "scale_X_test.shape"
   ]
  },
  {
   "cell_type": "markdown",
   "id": "c207fef5",
   "metadata": {},
   "source": [
    "## 하나의 모델 생성"
   ]
  },
  {
   "cell_type": "code",
   "execution_count": 71,
   "id": "f16b3f98",
   "metadata": {},
   "outputs": [
    {
     "data": {
      "text/plain": [
       "<AxesSubplot:title={'center':'Feature importance'}, xlabel='F score', ylabel='Features'>"
      ]
     },
     "execution_count": 71,
     "metadata": {},
     "output_type": "execute_result"
    },
    {
     "data": {
      "image/png": "[encoded data removed]",
      "text/plain": [
       "<Figure size 432x288 with 1 Axes>"
      ]
     },
     "metadata": {
      "needs_background": "light"
     },
     "output_type": "display_data"
    }
   ],
   "source": [
    "xgb_model = xgboost.XGBRegressor()\n",
    "xgb_model.fit(scale_X_train, y_train)\n",
    "\n",
    "# feature importance 확인\n",
    "xgboost.plot_importance(xgb_model)"
   ]
  },
  {
   "cell_type": "code",
   "execution_count": 73,
   "id": "fc56159b",
   "metadata": {},
   "outputs": [
    {
     "data": {
      "text/plain": [
       "array([140430.08 , 195716.33 , 121803.95 , ..., 139847.73 ,  63482.867,\n",
       "        75371.42 ], dtype=float32)"
      ]
     },
     "execution_count": 73,
     "metadata": {},
     "output_type": "execute_result"
    }
   ],
   "source": [
    "# predict\n",
    "predictions = xgb_model.predict(scale_X_test)\n",
    "predictions"
   ]
  },
  {
   "cell_type": "code",
   "execution_count": 76,
   "id": "9ec3a0b5",
   "metadata": {},
   "outputs": [
    {
     "name": "stdout",
     "output_type": "stream",
     "text": [
      "train score:  0.8143091261972292\n",
      "test score:  0.5526046722091968\n"
     ]
    }
   ],
   "source": [
    "# train score\n",
    "print(\"train score: \", xgb_model.score(scale_X_train, y_train))\n",
    "\n",
    "# test score\n",
    "print(\"test score: \", xgb_model.score(scale_X_test, y_test))"
   ]
  },
  {
   "cell_type": "markdown",
   "id": "e5dd7048",
   "metadata": {},
   "source": [
    "## 여러 개의 모델 생성"
   ]
  },
  {
   "cell_type": "code",
   "execution_count": 81,
   "id": "cfc2119b",
   "metadata": {},
   "outputs": [],
   "source": [
    "clfs = [\n",
    "    ['RF', RandomForestRegressor()],\n",
    "    ['KNN', KNeighborsRegressor()],\n",
    "    ['XGB', xgboost.XGBRegressor()]\n",
    "]"
   ]
  },
  {
   "cell_type": "code",
   "execution_count": 87,
   "id": "6b0fb353",
   "metadata": {},
   "outputs": [
    {
     "name": "stdout",
     "output_type": "stream",
     "text": [
      "RF Model's train score: 0.945925\n",
      "RF Model's test score: 0.588961\n",
      "\n",
      "\n",
      "KNN Model's train score: 0.724247\n",
      "KNN Model's test score: 0.549355\n",
      "\n",
      "\n",
      "XGB Model's train score: 0.814309\n",
      "XGB Model's test score: 0.552605\n",
      "\n",
      "\n"
     ]
    }
   ],
   "source": [
    "for name, model in clfs:\n",
    "    clf = model.fit(scale_X_train, y_train)\n",
    "    train_score = clf.score(scale_X_train, y_train)\n",
    "    test_score = clf.score(scale_X_test, y_test)\n",
    "    print(\"%s Model's train score: %f\" % (name, train_score))\n",
    "    print(\"%s Model's test score: %f\" % (name, test_score))\n",
    "    print(\"\\n\")"
   ]
  },
  {
   "cell_type": "markdown",
   "id": "1560ced7",
   "metadata": {},
   "source": [
    "## RMSE 확인"
   ]
  },
  {
   "cell_type": "code",
   "execution_count": 93,
   "id": "f1f093c0",
   "metadata": {},
   "outputs": [],
   "source": [
    "# 위 결과 중 가장 좋은 모델을 선정해서 fit\n",
    "final_model = RandomForestRegressor()\n",
    "final_model.fit(scale_X_train, y_train)\n",
    "\n",
    "# 예측값\n",
    "pred_train = final_model.predict(scale_X_train)\n",
    "pred_test = final_model.predict(scale_X_test)"
   ]
  },
  {
   "cell_type": "code",
   "execution_count": 98,
   "id": "1391e6bc",
   "metadata": {},
   "outputs": [
    {
     "name": "stdout",
     "output_type": "stream",
     "text": [
      "RMSE Train: 22294.98423517443\n",
      "RMSE Test: 60766.662354064494\n"
     ]
    }
   ],
   "source": [
    "RMSE_train = mean_squared_error(y_train, pred_train)**0.5\n",
    "RMSE_test = mean_squared_error(y_test, pred_test)**0.5\n",
    "\n",
    "print(\"RMSE Train:\" , RMSE_train)\n",
    "print(\"RMSE Test:\" , RMSE_test)"
   ]
  },
  {
   "cell_type": "markdown",
   "id": "0bd96416",
   "metadata": {},
   "source": [
    "Train set에 과적합되어 있는 경향을 띔"
   ]
  },
  {
   "cell_type": "markdown",
   "id": "81b9acb3",
   "metadata": {},
   "source": [
    "## K-fold\n",
    "- `cross_val_score()` 함수 활용\n",
    "- `cv` 인수 값의 default는 5"
   ]
  },
  {
   "cell_type": "code",
   "execution_count": 90,
   "id": "34dd0a50",
   "metadata": {},
   "outputs": [
    {
     "name": "stdout",
     "output_type": "stream",
     "text": [
      "RF Model's train score: 0.611998\n",
      "RF Model's test score: 0.603328\n",
      "\n",
      "\n",
      "KNN Model's train score: 0.584057\n",
      "KNN Model's test score: 0.567788\n",
      "\n",
      "\n",
      "XGB Model's train score: 0.603106\n",
      "XGB Model's test score: 0.569503\n",
      "\n",
      "\n"
     ]
    }
   ],
   "source": [
    "for name, model in clfs:\n",
    "    train_score = cross_val_score(model, scale_X_train, y_train)\n",
    "    test_score = cross_val_score(model, scale_X_test, y_test)\n",
    "    print(\"%s Model's train score: %f\" % (name, train_score.mean()))\n",
    "    print(\"%s Model's test score: %f\" % (name, test_score.mean()))\n",
    "    print(\"\\n\")"
   ]
  }
 ],
 "metadata": {
  "kernelspec": {
   "display_name": "[py38_test]",
   "language": "python",
   "name": "py38_test"
  },
  "language_info": {
   "codemirror_mode": {
    "name": "ipython",
    "version": 3
   },
   "file_extension": ".py",
   "mimetype": "text/x-python",
   "name": "python",
   "nbconvert_exporter": "python",
   "pygments_lexer": "ipython3",
   "version": "3.8.10"
  },
  "toc": {
   "base_numbering": 1,
   "nav_menu": {},
   "number_sections": true,
   "sideBar": true,
   "skip_h1_title": false,
   "title_cell": "Table of Contents",
   "title_sidebar": "Contents",
   "toc_cell": false,
   "toc_position": {},
   "toc_section_display": true,
   "toc_window_display": true
  },
  "varInspector": {
   "cols": {
    "lenName": 16,
    "lenType": 16,
    "lenVar": 40
   },
   "kernels_config": {
    "python": {
     "delete_cmd_postfix": "",
     "delete_cmd_prefix": "del ",
     "library": "var_list.py",
     "varRefreshCmd": "print(var_dic_list())"
    },
    "r": {
     "delete_cmd_postfix": ") ",
     "delete_cmd_prefix": "rm(",
     "library": "var_list.r",
     "varRefreshCmd": "cat(var_dic_list()) "
    }
   },
   "types_to_exclude": [
    "module",
    "function",
    "builtin_function_or_method",
    "instance",
    "_Feature"
   ],
   "window_display": false
  }
 },
 "nbformat": 4,
 "nbformat_minor": 5
}
