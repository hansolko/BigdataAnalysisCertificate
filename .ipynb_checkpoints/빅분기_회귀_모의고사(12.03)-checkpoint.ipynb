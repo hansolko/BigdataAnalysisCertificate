{
 "cells": [
  {
   "cell_type": "markdown",
   "id": "c7f3149c",
   "metadata": {},
   "source": [
    "# 출처\n",
    "- https://www.kaggle.com/agileteam/mock-exam1-type1-1-tutorial/notebook\n",
    "- https://www.kaggle.com/agileteam/t2-3-adult-census-income-tutorial/notebook"
   ]
  },
  {
   "cell_type": "markdown",
   "id": "4959a0d9",
   "metadata": {},
   "source": [
    "# 작업형 1 모의고사"
   ]
  },
  {
   "cell_type": "markdown",
   "id": "2491bc52",
   "metadata": {},
   "source": [
    "## 첫번째 데이터 부터 순서대로 50:50으로 데이터를 나누고, 앞에서 부터 50%의 데이터(이하, A그룹)는 'f1'컬럼의 결측치를 A그룹의 중앙값으로 채우고, 뒤에서부터 50% 데이터(이하, B그룹)는 'f1'컬럼의 결측치를 B그룹의 최대값으로 채운 후, A그룹과 B그룹의 표준편차 합을 구하시오\n",
    "단, 소수점 첫째자리까지 구하시오 (둘째자리에서 반올림)"
   ]
  },
  {
   "cell_type": "code",
   "execution_count": 21,
   "id": "f40fcd6a",
   "metadata": {},
   "outputs": [
    {
     "name": "stdout",
     "output_type": "stream",
     "text": [
      "42.0\n"
     ]
    }
   ],
   "source": [
    "import pandas as pd\n",
    "basic = pd.read_csv('basic1.csv')\n",
    "# print(basic.head())\n",
    "# print(basic.shape)\n",
    "\n",
    "basic_A = basic.head(50)\n",
    "basic_B = basic.tail(50)\n",
    "\n",
    "A_median = basic_A.f1.median()\n",
    "basic_A = basic_A.fillna(A_median)\n",
    "basic_A_std = basic_A.f1.std()\n",
    "\n",
    "B_max = basic_B.f1.max()\n",
    "basic_B = basic_B.fillna(B_max)\n",
    "basic_B_std = basic_B.f1.std()\n",
    "\n",
    "result = round(basic_A_std + basic_B_std,1)\n",
    "print(result)"
   ]
  },
  {
   "cell_type": "markdown",
   "id": "e3e7f206",
   "metadata": {},
   "source": [
    "## 'f4'컬럼을 기준 내림차순 정렬과 'f5'컬럼기준 오름차순 정렬을 순서대로 다중 조건 정렬하고나서 앞에서부터 10개의 데이터 중 'f5'컬럼의 최소값 찾고, 이 최소값으로 앞에서 부터 10개의 'f5'컬럼 데이터를 변경함. 그리고 'f5'컬럼의 평균값을 계산함¶\n",
    "단 소수점 둘째자리까지 출력(셋째자리에서 반올림)"
   ]
  },
  {
   "cell_type": "code",
   "execution_count": 50,
   "id": "8a71fd7a",
   "metadata": {},
   "outputs": [
    {
     "name": "stdout",
     "output_type": "stream",
     "text": [
      "53.63\n"
     ]
    }
   ],
   "source": [
    "import warnings\n",
    "warnings.filterwarnings('ignore')\n",
    "\n",
    "basic_sort = basic.sort_values(['f4', 'f5'], ascending = [False, True]).reset_index()\n",
    "basic_sort = basic_sort.drop('index', axis = 1)\n",
    "basic_sort_top10 = basic_sort.head(10)\n",
    "\n",
    "f5_min = basic_sort_top10.f5.min()\n",
    "basic_sort_top10.f5 = f5_min\n",
    "basic_sort_top10 = basic_sort_top10.reset_index()\n",
    "basic_sort_top10 = basic_sort_top10.drop('index', axis = 1)\n",
    "\n",
    "result = round(basic_sort.f5.mean(), 2)\n",
    "print(result)"
   ]
  },
  {
   "cell_type": "markdown",
   "id": "661b9973",
   "metadata": {},
   "source": [
    "## 'age' 컬럼의 IQR방식을 이용한 이상치 수와 표준편차*1.5방식을 이용한 이상치 수 합을 구하시오¶\n",
    "- IQR방식 : Q1 - 1.5 IQR, Q3 + 1.5 IQR에서 벗어나는 영역을 이상치라고 판단함 (Q1은 데이터의 25%, Q3는 데이터의 75% 지점임)\n",
    "- 표준편차1.5방식: 평균으로부터 '표준편차1.5'를 벗어나는 영역을 이상치라고 판단함"
   ]
  },
  {
   "cell_type": "code",
   "execution_count": 70,
   "id": "348f770a",
   "metadata": {},
   "outputs": [
    {
     "name": "stdout",
     "output_type": "stream",
     "text": [
      "14\n"
     ]
    }
   ],
   "source": [
    "# IQR\n",
    "Q1 = basic.age.quantile(.25)\n",
    "Median = basic.age.quantile(.5)\n",
    "Q3 = basic.age.quantile(.75)\n",
    "# print(Q1, Median, Q3)\n",
    "\n",
    "IQR = Q3 - Q1\n",
    "# print(IQR)\n",
    "IQR_min_range = Q1 - IQR*1.5\n",
    "IQR_max_range = Q3 + IQR*1.5\n",
    "# print(IQR_min_range, IQR_max_range)\n",
    "\n",
    "IQR_outlier_cond = (basic.age < IQR_min_range) | (basic.age > IQR_max_range)\n",
    "IQR_outlier_cnt = basic[IQR_outlier_cond].shape[0]\n",
    "\n",
    "# 표준편차*1.5 방식\n",
    "Mean = basic.age.mean()\n",
    "Std = basic.age.std()\n",
    "\n",
    "std_min_range = Mean - Std*1.5\n",
    "std_max_range = Mean + Std*1.5\n",
    "# print(std_min_range, std_max_range)\n",
    "\n",
    "std_outlier_cond = (basic.age < std_min_range) | (basic.age > std_max_range)\n",
    "std_outlier_cnt = basic[std_outlier_cond].shape[0]\n",
    "\n",
    "# 합치기!\n",
    "answer = IQR_outlier_cnt + std_outlier_cnt\n",
    "print(answer)   # 0 + 14"
   ]
  },
  {
   "cell_type": "markdown",
   "id": "e0e65173",
   "metadata": {},
   "source": [
    "# # 작업형 2 모의고사: 성인 인구조사 소득 예측\n",
    "- age: 나이\n",
    "- workclass: 고용 형태\n",
    "- fnlwgt: 사람의 대표성을 나타내는 가중치(final weight)\n",
    "- education: 교육 수준\n",
    "- education.num: 교육 수준 수치\n",
    "- marital.status: 결혼 상태\n",
    "- occupation: 업종\n",
    "- relationship: 가족 관계\n",
    "- race: 인종\n",
    "- sex: 성별\n",
    "- capital.gain: 양도 소득\n",
    "- capital.loss: 양도 손실\n",
    "- hours.per.week: 주당 근무 시간\n",
    "- native.country: 국적\n",
    "- income: 수익 (예측해야 하는 값)"
   ]
  },
  {
   "cell_type": "code",
   "execution_count": 8,
   "id": "c041f463",
   "metadata": {},
   "outputs": [
    {
     "data": {
      "text/plain": [
       "((26048, 15), (6513, 15), (26048, 2), (6513, 2))"
      ]
     },
     "execution_count": 8,
     "metadata": {},
     "output_type": "execute_result"
    }
   ],
   "source": [
    "# 시험환경 세팅 (코드 변경 X)\n",
    "import pandas as pd\n",
    "import numpy as np\n",
    "from sklearn.model_selection import train_test_split\n",
    "\n",
    "def exam_data_load(df, target, id_name=\"\", null_name=\"\"):\n",
    "    if id_name == \"\":\n",
    "        df = df.reset_index().rename(columns={\"index\": \"id\"})\n",
    "        id_name = 'id'\n",
    "    else:\n",
    "        id_name = id_name\n",
    "    \n",
    "    if null_name != \"\":\n",
    "        df[df == null_name] = np.nan\n",
    "    \n",
    "    X_train, X_test = train_test_split(df, test_size=0.2, random_state=2021)\n",
    "    \n",
    "    y_train = X_train[[id_name, target]]\n",
    "    X_train = X_train.drop(columns=[target])\n",
    "\n",
    "    \n",
    "    y_test = X_test[[id_name, target]]\n",
    "    X_test = X_test.drop(columns=[target])\n",
    "    return X_train, X_test, y_train, y_test \n",
    "    \n",
    "df = pd.read_csv(\"adult.csv\")\n",
    "X_train, X_test, y_train, y_test = exam_data_load(df, target='income', null_name='?')\n",
    "\n",
    "X_train.shape, X_test.shape, y_train.shape, y_test.shape"
   ]
  },
  {
   "cell_type": "code",
   "execution_count": 76,
   "id": "a564e458",
   "metadata": {},
   "outputs": [],
   "source": [
    "# 시험환경에서는 아래와 같이 제공된다고 함\n",
    "# import pandas as pd\n",
    "# X_test = pd.read_csv(\"data/X_test.csv\")\n",
    "# X_train = pd.read_csv(\"data/X_train.csv\")\n",
    "# y_train = pd.read_csv(\"data/y_train.csv\")"
   ]
  },
  {
   "cell_type": "code",
   "execution_count": null,
   "id": "d4b1e78f",
   "metadata": {},
   "outputs": [],
   "source": []
  }
 ],
 "metadata": {
  "kernelspec": {
   "display_name": "[py38_test]",
   "language": "python",
   "name": "py38_test"
  },
  "language_info": {
   "codemirror_mode": {
    "name": "ipython",
    "version": 3
   },
   "file_extension": ".py",
   "mimetype": "text/x-python",
   "name": "python",
   "nbconvert_exporter": "python",
   "pygments_lexer": "ipython3",
   "version": "3.8.10"
  },
  "toc": {
   "base_numbering": 1,
   "nav_menu": {},
   "number_sections": true,
   "sideBar": true,
   "skip_h1_title": false,
   "title_cell": "Table of Contents",
   "title_sidebar": "Contents",
   "toc_cell": false,
   "toc_position": {},
   "toc_section_display": true,
   "toc_window_display": false
  },
  "varInspector": {
   "cols": {
    "lenName": 16,
    "lenType": 16,
    "lenVar": 40
   },
   "kernels_config": {
    "python": {
     "delete_cmd_postfix": "",
     "delete_cmd_prefix": "del ",
     "library": "var_list.py",
     "varRefreshCmd": "print(var_dic_list())"
    },
    "r": {
     "delete_cmd_postfix": ") ",
     "delete_cmd_prefix": "rm(",
     "library": "var_list.r",
     "varRefreshCmd": "cat(var_dic_list()) "
    }
   },
   "types_to_exclude": [
    "module",
    "function",
    "builtin_function_or_method",
    "instance",
    "_Feature"
   ],
   "window_display": false
  }
 },
 "nbformat": 4,
 "nbformat_minor": 5
}
