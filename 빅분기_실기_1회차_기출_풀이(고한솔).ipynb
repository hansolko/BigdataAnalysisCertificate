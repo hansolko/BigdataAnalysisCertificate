{
 "cells": [
  {
   "cell_type": "markdown",
   "id": "d05798e2",
   "metadata": {},
   "source": [
    "출처<br>\n",
    "- https://ha2juo.tistory.com/5<br>\n",
    "- https://gagadi.tistory.com/35<br>\n",
    "- https://where-i-am.tistory.com/m/entry/%EB%B9%85%EB%B6%84%EA%B8%B0-2021-%EB%B9%85%EB%8D%B0%EC%9D%B4%ED%84%B0-%EB%B6%84%EC%84%9D%EA%B8%B0%EC%82%AC-2%ED%9A%8C-%EC%8B%A4%EA%B8%B0-%ED%9B%84%EA%B8%B0-%EB%B3%B5%EC%9B%90-%EB%AC%B8%EC%A0%9C<br>\n",
    "- https://www.kaggle.com/agileteam/tutorial-t1-2-python/notebook"
   ]
  },
  {
   "cell_type": "markdown",
   "id": "11842a3d",
   "metadata": {},
   "source": [
    "# 작업형 1"
   ]
  },
  {
   "cell_type": "markdown",
   "id": "7fe50618",
   "metadata": {},
   "source": [
    "## 주어진 데이터셋의 범죄율(crim)에서 상위 10개의 데이터에 대해서 10개 중 최솟값으로 대체한 후, AGE 변수에서 값이 80 이상인 데이터들 중 범죄율의 평균값 구하기\n",
    "- 보스턴 데이터 https://github.com/selva86/datasets/blob/master/BostonHousing.csv"
   ]
  },
  {
   "cell_type": "code",
   "execution_count": 41,
   "id": "aa4c371e",
   "metadata": {},
   "outputs": [
    {
     "name": "stdout",
     "output_type": "stream",
     "text": [
      "5.759386625\n"
     ]
    },
    {
     "name": "stderr",
     "output_type": "stream",
     "text": [
      "<ipython-input-41-6a9d9168c2f3>:11: SettingWithCopyWarning: \n",
      "A value is trying to be set on a copy of a slice from a DataFrame.\n",
      "Try using .loc[row_indexer,col_indexer] = value instead\n",
      "\n",
      "See the caveats in the documentation: https://pandas.pydata.org/pandas-docs/stable/user_guide/indexing.html#returning-a-view-versus-a-copy\n",
      "  boston_top10['crim'] = crim_min\n"
     ]
    }
   ],
   "source": [
    "import pandas as pd\n",
    "\n",
    "boston = pd.read_csv('boston.csv')\n",
    "boston_sort = boston.sort_values('crim', ascending = False).reset_index()\n",
    "del boston_sort['index']\n",
    "boston_top10 = boston_sort.head(10)\n",
    "boston_top10\n",
    "\n",
    "# 상위 10개 crim 열 최솟값으로 대체\n",
    "crim_min = boston_top10.crim.min()\n",
    "boston_top10['crim'] = crim_min\n",
    "boston_sort.head(14)\n",
    "\n",
    "# age 변수 조건\n",
    "crim_result = boston_sort[boston_sort['age'] >= 80].crim.mean()\n",
    "print(crim_result)"
   ]
  },
  {
   "cell_type": "markdown",
   "id": "f4799bea",
   "metadata": {},
   "source": [
    "## 주어진 데이터 첫번째 행 부터 순서대로 80%까지의 데이터를 추출 후 'total_bedrooms' 변수의 결측값(NA)을 'total_bedrooms' 변수의 중앙값으로 대체하고 대체 전의 'total_bedrooms' 변수 표준편차값과 대체 후의 'total_bedrooms' 변수 표준편차 값 산출\n",
    "- 캘리포니아 데이터 https://www.kaggle.com/harrywang/housing?select=housing.csv"
   ]
  },
  {
   "cell_type": "code",
   "execution_count": 61,
   "id": "3ef89184",
   "metadata": {},
   "outputs": [
    {
     "name": "stdout",
     "output_type": "stream",
     "text": [
      "435.90057705252616\n",
      "433.9254297608805\n"
     ]
    }
   ],
   "source": [
    "california = pd.read_csv('california.csv')\n",
    "\n",
    "# 80% 까지 추출\n",
    "row_range = int(california.shape[0] * 0.8)\n",
    "california_80 = california.iloc[:row_range]\n",
    "\n",
    "# NA 확인 및 대체\n",
    "# california_80.isnull().sum()\n",
    "california_na_rm = california_80.copy()\n",
    "california_na_rm['total_bedrooms'] = california_80['total_bedrooms'].fillna(california_80['total_bedrooms'].median())\n",
    "\n",
    "# 대체 전 표준편차 값\n",
    "print(california_80.total_bedrooms.std())\n",
    "\n",
    "# 대체 후 표준편차 값\n",
    "print(california_na_rm.total_bedrooms.std())"
   ]
  },
  {
   "cell_type": "markdown",
   "id": "9d2f718f",
   "metadata": {},
   "source": [
    "## 주어진 데이터 셋에서 age 컬럼의 이상치를 IQR rule에 의해 탐지하고 이상치들의 합을 구하기(단, 평균으로부터 '표준편차*1.5'를 벗어나는 영역을 이상치라고 판단함)\n",
    "- 보험료 데이터 https://www.kaggle.com/mirichoi0218/insurance/version/1"
   ]
  },
  {
   "cell_type": "code",
   "execution_count": 101,
   "id": "2fd5dc96",
   "metadata": {},
   "outputs": [
    {
     "name": "stdout",
     "output_type": "stream",
     "text": [
      "6928\n"
     ]
    }
   ],
   "source": [
    "# 문제에서 제시된 이상치 탐지법 적용\n",
    "insurance = pd.read_csv('insurance.csv')\n",
    "age_mean = insurance.age.mean()\n",
    "age_std = insurance.age.std()\n",
    "\n",
    "min_range = age_mean - age_std*1.5\n",
    "max_range = age_mean + age_std*1.5\n",
    "\n",
    "outlier_cond = (insurance.age < min_range) | (insurance.age > max_range)\n",
    "# print(min_range, max_range)\n",
    "print(insurance.age[outlier_cond].sum())"
   ]
  },
  {
   "cell_type": "code",
   "execution_count": 100,
   "id": "811fa6af",
   "metadata": {},
   "outputs": [
    {
     "name": "stdout",
     "output_type": "stream",
     "text": [
      "-9.0 87.0\n"
     ]
    },
    {
     "data": {
      "text/plain": [
       "0       19\n",
       "1       18\n",
       "2       28\n",
       "3       33\n",
       "4       32\n",
       "        ..\n",
       "1333    50\n",
       "1334    18\n",
       "1335    18\n",
       "1336    21\n",
       "1337    61\n",
       "Name: age, Length: 1338, dtype: int64"
      ]
     },
     "execution_count": 100,
     "metadata": {},
     "output_type": "execute_result"
    }
   ],
   "source": [
    "# 일반적인 IQR 이상치 탐지법 적용\n",
    "insurance = pd.read_csv('insurance.csv')\n",
    "Q1 = insurance.age.quantile(.25)\n",
    "median = insurance.age.median()\n",
    "Q3 = insurance.age.quantile(.75)\n",
    "\n",
    "IQR = Q3 - Q1\n",
    "\n",
    "min_range = Q1 - IQR*1.5\n",
    "max_range = Q3 + IQR*1.5\n",
    "\n",
    "outlier_remove_cond = (insurance.age > min_range) & (insurance.age < max_range)\n",
    "print(min_range, max_range)\n",
    "insurance.age[outlier_remove_cond]   # 이상치가 아예 존재 x"
   ]
  },
  {
   "cell_type": "markdown",
   "id": "6a9955a1",
   "metadata": {},
   "source": [
    "# 작업형 2\n",
    "고객 구매 데이터를 사용해서 고객이 주문한 물품이 제 시간에 도착여부(Reached.on.Time_Y.N) 예측\n",
    "- 데이터 https://www.kaggle.com/prachi13/customer-analytics?select=Train.csv"
   ]
  },
  {
   "cell_type": "markdown",
   "id": "ca8d00d7",
   "metadata": {},
   "source": [
    "-----------------------------------------------------원본데이터에서 Train, Test 데이터 셋 추출하는 과정이므로 그대로 진행 --"
   ]
  },
  {
   "cell_type": "code",
   "execution_count": 1,
   "id": "c1c3e74c",
   "metadata": {},
   "outputs": [
    {
     "data": {
      "text/plain": [
       "((8799, 10), (2200, 10), (8799, 2), (2200, 2))"
      ]
     },
     "execution_count": 1,
     "metadata": {},
     "output_type": "execute_result"
    }
   ],
   "source": [
    "import pandas as pd\n",
    "import numpy as np\n",
    "from sklearn.model_selection import train_test_split\n",
    "\n",
    "def exam_data_load(df, target, id_name=\"\", null_name=\"\"):\n",
    "    if id_name == \"\":\n",
    "        df = df.reset_index().rename(columns={\"index\": \"id\"})\n",
    "        id_name = 'id'\n",
    "    else:\n",
    "        id_name = id_name\n",
    "    \n",
    "    if null_name != \"\":\n",
    "        df[df == null_name] = np.nan\n",
    "    \n",
    "    X_train, X_test = train_test_split(df, test_size=0.2, shuffle=True, random_state=2021)\n",
    "    y_train = X_train[[id_name, target]]\n",
    "    X_train = X_train.drop(columns=[id_name, target])\n",
    "    y_test = X_test[[id_name, target]]\n",
    "    X_test = X_test.drop(columns=[id_name, target])\n",
    "    return X_train, X_test, y_train, y_test \n",
    "    \n",
    "df = pd.read_csv(\"./Train.csv\")\n",
    "x_train, x_test, y_train, y_test = exam_data_load(df, \n",
    "                                                  target='Reached.on.Time_Y.N', \n",
    "                                                  id_name='ID')\n",
    "\n",
    "x_train.shape, x_test.shape, y_train.shape, y_test.shape"
   ]
  },
  {
   "cell_type": "code",
   "execution_count": 2,
   "id": "927af749",
   "metadata": {},
   "outputs": [
    {
     "data": {
      "text/html": [
       "<div>\n",
       "<style scoped>\n",
       "    .dataframe tbody tr th:only-of-type {\n",
       "        vertical-align: middle;\n",
       "    }\n",
       "\n",
       "    .dataframe tbody tr th {\n",
       "        vertical-align: top;\n",
       "    }\n",
       "\n",
       "    .dataframe thead th {\n",
       "        text-align: right;\n",
       "    }\n",
       "</style>\n",
       "<table border=\"1\" class=\"dataframe\">\n",
       "  <thead>\n",
       "    <tr style=\"text-align: right;\">\n",
       "      <th></th>\n",
       "      <th>ID</th>\n",
       "      <th>Warehouse_block</th>\n",
       "      <th>Mode_of_Shipment</th>\n",
       "      <th>Customer_care_calls</th>\n",
       "      <th>Customer_rating</th>\n",
       "      <th>Cost_of_the_Product</th>\n",
       "      <th>Prior_purchases</th>\n",
       "      <th>Product_importance</th>\n",
       "      <th>Gender</th>\n",
       "      <th>Discount_offered</th>\n",
       "      <th>Weight_in_gms</th>\n",
       "      <th>Reached.on.Time_Y.N</th>\n",
       "    </tr>\n",
       "  </thead>\n",
       "  <tbody>\n",
       "    <tr>\n",
       "      <th>0</th>\n",
       "      <td>1</td>\n",
       "      <td>D</td>\n",
       "      <td>Flight</td>\n",
       "      <td>4</td>\n",
       "      <td>2</td>\n",
       "      <td>177</td>\n",
       "      <td>3</td>\n",
       "      <td>low</td>\n",
       "      <td>F</td>\n",
       "      <td>44</td>\n",
       "      <td>1233</td>\n",
       "      <td>1</td>\n",
       "    </tr>\n",
       "    <tr>\n",
       "      <th>1</th>\n",
       "      <td>2</td>\n",
       "      <td>F</td>\n",
       "      <td>Flight</td>\n",
       "      <td>4</td>\n",
       "      <td>5</td>\n",
       "      <td>216</td>\n",
       "      <td>2</td>\n",
       "      <td>low</td>\n",
       "      <td>M</td>\n",
       "      <td>59</td>\n",
       "      <td>3088</td>\n",
       "      <td>1</td>\n",
       "    </tr>\n",
       "    <tr>\n",
       "      <th>2</th>\n",
       "      <td>3</td>\n",
       "      <td>A</td>\n",
       "      <td>Flight</td>\n",
       "      <td>2</td>\n",
       "      <td>2</td>\n",
       "      <td>183</td>\n",
       "      <td>4</td>\n",
       "      <td>low</td>\n",
       "      <td>M</td>\n",
       "      <td>48</td>\n",
       "      <td>3374</td>\n",
       "      <td>1</td>\n",
       "    </tr>\n",
       "    <tr>\n",
       "      <th>3</th>\n",
       "      <td>4</td>\n",
       "      <td>B</td>\n",
       "      <td>Flight</td>\n",
       "      <td>3</td>\n",
       "      <td>3</td>\n",
       "      <td>176</td>\n",
       "      <td>4</td>\n",
       "      <td>medium</td>\n",
       "      <td>M</td>\n",
       "      <td>10</td>\n",
       "      <td>1177</td>\n",
       "      <td>1</td>\n",
       "    </tr>\n",
       "    <tr>\n",
       "      <th>4</th>\n",
       "      <td>5</td>\n",
       "      <td>C</td>\n",
       "      <td>Flight</td>\n",
       "      <td>2</td>\n",
       "      <td>2</td>\n",
       "      <td>184</td>\n",
       "      <td>3</td>\n",
       "      <td>medium</td>\n",
       "      <td>F</td>\n",
       "      <td>46</td>\n",
       "      <td>2484</td>\n",
       "      <td>1</td>\n",
       "    </tr>\n",
       "  </tbody>\n",
       "</table>\n",
       "</div>"
      ],
      "text/plain": [
       "   ID Warehouse_block Mode_of_Shipment  Customer_care_calls  Customer_rating  \\\n",
       "0   1               D           Flight                    4                2   \n",
       "1   2               F           Flight                    4                5   \n",
       "2   3               A           Flight                    2                2   \n",
       "3   4               B           Flight                    3                3   \n",
       "4   5               C           Flight                    2                2   \n",
       "\n",
       "   Cost_of_the_Product  Prior_purchases Product_importance Gender  \\\n",
       "0                  177                3                low      F   \n",
       "1                  216                2                low      M   \n",
       "2                  183                4                low      M   \n",
       "3                  176                4             medium      M   \n",
       "4                  184                3             medium      F   \n",
       "\n",
       "   Discount_offered  Weight_in_gms  Reached.on.Time_Y.N  \n",
       "0                44           1233                    1  \n",
       "1                59           3088                    1  \n",
       "2                48           3374                    1  \n",
       "3                10           1177                    1  \n",
       "4                46           2484                    1  "
      ]
     },
     "execution_count": 2,
     "metadata": {},
     "output_type": "execute_result"
    }
   ],
   "source": [
    "df.head()"
   ]
  },
  {
   "cell_type": "code",
   "execution_count": 3,
   "id": "d6182182",
   "metadata": {},
   "outputs": [
    {
     "data": {
      "text/plain": [
       "((8799, 10), (2200, 10), (8799, 2))"
      ]
     },
     "execution_count": 3,
     "metadata": {},
     "output_type": "execute_result"
    }
   ],
   "source": [
    "# 제공된 3개 데이터 (y_test데이터 활용X)\n",
    "x_train.shape, x_test.shape, y_train.shape"
   ]
  },
  {
   "cell_type": "markdown",
   "id": "d0c55e96",
   "metadata": {},
   "source": [
    "-----------------------------------------------------여기까지 진행하고 x_train, x_test, y_train 사용 --"
   ]
  },
  {
   "cell_type": "code",
   "execution_count": 4,
   "id": "0ccafcb2",
   "metadata": {
    "scrolled": true
   },
   "outputs": [
    {
     "data": {
      "text/html": [
       "<div>\n",
       "<style scoped>\n",
       "    .dataframe tbody tr th:only-of-type {\n",
       "        vertical-align: middle;\n",
       "    }\n",
       "\n",
       "    .dataframe tbody tr th {\n",
       "        vertical-align: top;\n",
       "    }\n",
       "\n",
       "    .dataframe thead th {\n",
       "        text-align: right;\n",
       "    }\n",
       "</style>\n",
       "<table border=\"1\" class=\"dataframe\">\n",
       "  <thead>\n",
       "    <tr style=\"text-align: right;\">\n",
       "      <th></th>\n",
       "      <th>Warehouse_block</th>\n",
       "      <th>Mode_of_Shipment</th>\n",
       "      <th>Customer_care_calls</th>\n",
       "      <th>Customer_rating</th>\n",
       "      <th>Cost_of_the_Product</th>\n",
       "      <th>Prior_purchases</th>\n",
       "      <th>Product_importance</th>\n",
       "      <th>Gender</th>\n",
       "      <th>Discount_offered</th>\n",
       "      <th>Weight_in_gms</th>\n",
       "    </tr>\n",
       "  </thead>\n",
       "  <tbody>\n",
       "    <tr>\n",
       "      <th>3999</th>\n",
       "      <td>B</td>\n",
       "      <td>Ship</td>\n",
       "      <td>3</td>\n",
       "      <td>4</td>\n",
       "      <td>134</td>\n",
       "      <td>3</td>\n",
       "      <td>high</td>\n",
       "      <td>F</td>\n",
       "      <td>6</td>\n",
       "      <td>5680</td>\n",
       "    </tr>\n",
       "    <tr>\n",
       "      <th>9559</th>\n",
       "      <td>F</td>\n",
       "      <td>Ship</td>\n",
       "      <td>4</td>\n",
       "      <td>3</td>\n",
       "      <td>173</td>\n",
       "      <td>3</td>\n",
       "      <td>medium</td>\n",
       "      <td>M</td>\n",
       "      <td>5</td>\n",
       "      <td>5331</td>\n",
       "    </tr>\n",
       "    <tr>\n",
       "      <th>2649</th>\n",
       "      <td>B</td>\n",
       "      <td>Ship</td>\n",
       "      <td>2</td>\n",
       "      <td>1</td>\n",
       "      <td>192</td>\n",
       "      <td>3</td>\n",
       "      <td>high</td>\n",
       "      <td>M</td>\n",
       "      <td>46</td>\n",
       "      <td>3206</td>\n",
       "    </tr>\n",
       "    <tr>\n",
       "      <th>4843</th>\n",
       "      <td>F</td>\n",
       "      <td>Ship</td>\n",
       "      <td>6</td>\n",
       "      <td>5</td>\n",
       "      <td>284</td>\n",
       "      <td>4</td>\n",
       "      <td>medium</td>\n",
       "      <td>M</td>\n",
       "      <td>8</td>\n",
       "      <td>5346</td>\n",
       "    </tr>\n",
       "    <tr>\n",
       "      <th>9601</th>\n",
       "      <td>F</td>\n",
       "      <td>Flight</td>\n",
       "      <td>3</td>\n",
       "      <td>1</td>\n",
       "      <td>246</td>\n",
       "      <td>3</td>\n",
       "      <td>low</td>\n",
       "      <td>F</td>\n",
       "      <td>10</td>\n",
       "      <td>4707</td>\n",
       "    </tr>\n",
       "  </tbody>\n",
       "</table>\n",
       "</div>"
      ],
      "text/plain": [
       "     Warehouse_block Mode_of_Shipment  Customer_care_calls  Customer_rating  \\\n",
       "3999               B             Ship                    3                4   \n",
       "9559               F             Ship                    4                3   \n",
       "2649               B             Ship                    2                1   \n",
       "4843               F             Ship                    6                5   \n",
       "9601               F           Flight                    3                1   \n",
       "\n",
       "      Cost_of_the_Product  Prior_purchases Product_importance Gender  \\\n",
       "3999                  134                3               high      F   \n",
       "9559                  173                3             medium      M   \n",
       "2649                  192                3               high      M   \n",
       "4843                  284                4             medium      M   \n",
       "9601                  246                3                low      F   \n",
       "\n",
       "      Discount_offered  Weight_in_gms  \n",
       "3999                 6           5680  \n",
       "9559                 5           5331  \n",
       "2649                46           3206  \n",
       "4843                 8           5346  \n",
       "9601                10           4707  "
      ]
     },
     "execution_count": 4,
     "metadata": {},
     "output_type": "execute_result"
    }
   ],
   "source": [
    "x_train.head()"
   ]
  },
  {
   "cell_type": "code",
   "execution_count": 49,
   "id": "7a29f3bc",
   "metadata": {},
   "outputs": [
    {
     "data": {
      "text/html": [
       "<div>\n",
       "<style scoped>\n",
       "    .dataframe tbody tr th:only-of-type {\n",
       "        vertical-align: middle;\n",
       "    }\n",
       "\n",
       "    .dataframe tbody tr th {\n",
       "        vertical-align: top;\n",
       "    }\n",
       "\n",
       "    .dataframe thead th {\n",
       "        text-align: right;\n",
       "    }\n",
       "</style>\n",
       "<table border=\"1\" class=\"dataframe\">\n",
       "  <thead>\n",
       "    <tr style=\"text-align: right;\">\n",
       "      <th></th>\n",
       "      <th>Warehouse_block</th>\n",
       "      <th>Mode_of_Shipment</th>\n",
       "      <th>Customer_care_calls</th>\n",
       "      <th>Customer_rating</th>\n",
       "      <th>Cost_of_the_Product</th>\n",
       "      <th>Prior_purchases</th>\n",
       "      <th>Product_importance</th>\n",
       "      <th>Gender</th>\n",
       "      <th>Discount_offered</th>\n",
       "      <th>Weight_in_gms</th>\n",
       "    </tr>\n",
       "  </thead>\n",
       "  <tbody>\n",
       "    <tr>\n",
       "      <th>4732</th>\n",
       "      <td>C</td>\n",
       "      <td>Ship</td>\n",
       "      <td>5</td>\n",
       "      <td>5</td>\n",
       "      <td>250</td>\n",
       "      <td>2</td>\n",
       "      <td>medium</td>\n",
       "      <td>M</td>\n",
       "      <td>10</td>\n",
       "      <td>5475</td>\n",
       "    </tr>\n",
       "    <tr>\n",
       "      <th>2039</th>\n",
       "      <td>F</td>\n",
       "      <td>Road</td>\n",
       "      <td>5</td>\n",
       "      <td>2</td>\n",
       "      <td>202</td>\n",
       "      <td>3</td>\n",
       "      <td>medium</td>\n",
       "      <td>M</td>\n",
       "      <td>34</td>\n",
       "      <td>3885</td>\n",
       "    </tr>\n",
       "    <tr>\n",
       "      <th>5113</th>\n",
       "      <td>F</td>\n",
       "      <td>Ship</td>\n",
       "      <td>5</td>\n",
       "      <td>4</td>\n",
       "      <td>154</td>\n",
       "      <td>2</td>\n",
       "      <td>low</td>\n",
       "      <td>F</td>\n",
       "      <td>5</td>\n",
       "      <td>5528</td>\n",
       "    </tr>\n",
       "    <tr>\n",
       "      <th>2360</th>\n",
       "      <td>A</td>\n",
       "      <td>Ship</td>\n",
       "      <td>6</td>\n",
       "      <td>4</td>\n",
       "      <td>209</td>\n",
       "      <td>5</td>\n",
       "      <td>low</td>\n",
       "      <td>F</td>\n",
       "      <td>53</td>\n",
       "      <td>3169</td>\n",
       "    </tr>\n",
       "    <tr>\n",
       "      <th>5995</th>\n",
       "      <td>F</td>\n",
       "      <td>Ship</td>\n",
       "      <td>6</td>\n",
       "      <td>1</td>\n",
       "      <td>250</td>\n",
       "      <td>4</td>\n",
       "      <td>low</td>\n",
       "      <td>M</td>\n",
       "      <td>4</td>\n",
       "      <td>1018</td>\n",
       "    </tr>\n",
       "  </tbody>\n",
       "</table>\n",
       "</div>"
      ],
      "text/plain": [
       "     Warehouse_block Mode_of_Shipment  Customer_care_calls  Customer_rating  \\\n",
       "4732               C             Ship                    5                5   \n",
       "2039               F             Road                    5                2   \n",
       "5113               F             Ship                    5                4   \n",
       "2360               A             Ship                    6                4   \n",
       "5995               F             Ship                    6                1   \n",
       "\n",
       "      Cost_of_the_Product  Prior_purchases Product_importance Gender  \\\n",
       "4732                  250                2             medium      M   \n",
       "2039                  202                3             medium      M   \n",
       "5113                  154                2                low      F   \n",
       "2360                  209                5                low      F   \n",
       "5995                  250                4                low      M   \n",
       "\n",
       "      Discount_offered  Weight_in_gms  \n",
       "4732                10           5475  \n",
       "2039                34           3885  \n",
       "5113                 5           5528  \n",
       "2360                53           3169  \n",
       "5995                 4           1018  "
      ]
     },
     "execution_count": 49,
     "metadata": {},
     "output_type": "execute_result"
    }
   ],
   "source": [
    "x_test.head()"
   ]
  },
  {
   "cell_type": "code",
   "execution_count": 46,
   "id": "7d0a262f",
   "metadata": {},
   "outputs": [
    {
     "data": {
      "text/html": [
       "<div>\n",
       "<style scoped>\n",
       "    .dataframe tbody tr th:only-of-type {\n",
       "        vertical-align: middle;\n",
       "    }\n",
       "\n",
       "    .dataframe tbody tr th {\n",
       "        vertical-align: top;\n",
       "    }\n",
       "\n",
       "    .dataframe thead th {\n",
       "        text-align: right;\n",
       "    }\n",
       "</style>\n",
       "<table border=\"1\" class=\"dataframe\">\n",
       "  <thead>\n",
       "    <tr style=\"text-align: right;\">\n",
       "      <th></th>\n",
       "      <th>ID</th>\n",
       "      <th>Reached.on.Time_Y.N</th>\n",
       "    </tr>\n",
       "  </thead>\n",
       "  <tbody>\n",
       "    <tr>\n",
       "      <th>3999</th>\n",
       "      <td>4000</td>\n",
       "      <td>0</td>\n",
       "    </tr>\n",
       "    <tr>\n",
       "      <th>9559</th>\n",
       "      <td>9560</td>\n",
       "      <td>1</td>\n",
       "    </tr>\n",
       "    <tr>\n",
       "      <th>2649</th>\n",
       "      <td>2650</td>\n",
       "      <td>1</td>\n",
       "    </tr>\n",
       "    <tr>\n",
       "      <th>4843</th>\n",
       "      <td>4844</td>\n",
       "      <td>1</td>\n",
       "    </tr>\n",
       "    <tr>\n",
       "      <th>9601</th>\n",
       "      <td>9602</td>\n",
       "      <td>1</td>\n",
       "    </tr>\n",
       "  </tbody>\n",
       "</table>\n",
       "</div>"
      ],
      "text/plain": [
       "        ID  Reached.on.Time_Y.N\n",
       "3999  4000                    0\n",
       "9559  9560                    1\n",
       "2649  2650                    1\n",
       "4843  4844                    1\n",
       "9601  9602                    1"
      ]
     },
     "execution_count": 46,
     "metadata": {},
     "output_type": "execute_result"
    }
   ],
   "source": [
    "y_train.head()"
   ]
  },
  {
   "cell_type": "code",
   "execution_count": 59,
   "id": "91d96f55",
   "metadata": {},
   "outputs": [
    {
     "name": "stdout",
     "output_type": "stream",
     "text": [
      "LR's score: 0.182702\n",
      "RF's score: 0.663372\n",
      "KNN's score: 0.626775\n",
      "XGB's score: 0.683601\n"
     ]
    }
   ],
   "source": [
    "# 1. 데이터 전처리\n",
    "# 1.1. 결측치 확인 및 대체 : 결측치 존재 x\n",
    "# print(x_train.isnull().sum())\n",
    "# print(x_test.isnull().sum())\n",
    "\n",
    "# 1.2. one-hot encoding (Customer_rating은 그냥 수치형으로 보겠음)\n",
    "x_train_onehot = x_train[['Warehouse_block', 'Mode_of_Shipment', 'Product_importance', 'Gender']]\n",
    "x_train_onehot = pd.get_dummies(x_train_onehot).reset_index()\n",
    "del x_train_onehot['index']\n",
    "# print(x_train_onehot.shape)\n",
    "\n",
    "x_test_onehot = x_test[['Warehouse_block', 'Mode_of_Shipment', 'Product_importance', 'Gender']]\n",
    "x_test_onehot = pd.get_dummies(x_test_onehot).reset_index()\n",
    "del x_test_onehot['index']\n",
    "# print(x_test_onehot.shape)\n",
    "### 컬럼 수 일치한다. 추가 이슈: reset_index()를 해줘야 1.4 단계에서 concat으로 합칠때 문제 없이 잘 합쳐짐\n",
    "\n",
    "# 1.3. MinMaxScaling\n",
    "from sklearn.preprocessing import MinMaxScaler\n",
    "\n",
    "x_train_minmax = x_train[['Customer_care_calls', 'Customer_rating', 'Cost_of_the_Product', 'Prior_purchases', 'Discount_offered', 'Weight_in_gms']]\n",
    "train_minmax_col = x_train_minmax.columns\n",
    "\n",
    "scaler = MinMaxScaler()\n",
    "x_train_minmax = scaler.fit_transform(x_train_minmax)\n",
    "x_train_minmax = pd.DataFrame(data = x_train_minmax, columns = train_minmax_col)\n",
    "# print(x_train_minmax.shape)\n",
    "\n",
    "x_test_minmax = x_test[['Customer_care_calls', 'Customer_rating', 'Cost_of_the_Product', 'Prior_purchases', 'Discount_offered', 'Weight_in_gms']]\n",
    "test_minmax_col = x_test_minmax.columns\n",
    "\n",
    "x_test_minmax = scaler.transform(x_test_minmax)\n",
    "x_test_minmax = pd.DataFrame(data = x_test_minmax, columns = test_minmax_col)\n",
    "# print(x_test_minmax.shape)\n",
    "### 컬럼 수 일치. 잘 됨\n",
    "\n",
    "# 1.4. 1.2 데이터와 1.3 데이터 합치기\n",
    "\n",
    "X_train = pd.concat([x_train_onehot, x_train_minmax], axis = 1)\n",
    "X_test = pd.concat([x_test_onehot, x_test_minmax], axis = 1)\n",
    "\n",
    "# 1.5. 모델 생성 전, y_train에 ID 열 제거\n",
    "y_train_no_id = y_train.copy()\n",
    "del y_train_no_id['ID']\n",
    "# print(y_train_no_id)\n",
    "\n",
    "# 2. 모델 생성 및 평가\n",
    "import warnings\n",
    "warnings.filterwarnings('ignore')\n",
    "\n",
    "from sklearn.model_selection import cross_val_score\n",
    "from sklearn.metrics import classification_report, f1_score\n",
    "from sklearn.linear_model import LinearRegression\n",
    "from sklearn.ensemble import RandomForestClassifier\n",
    "from sklearn.neighbors import KNeighborsClassifier\n",
    "from xgboost import XGBClassifier\n",
    "\n",
    "# LR\n",
    "scores = cross_val_score(LinearRegression(), X_train, y_train_no_id, cv = 3)\n",
    "print(\"LR's score: %f\" % scores.mean())\n",
    "\n",
    "# RF\n",
    "scores = cross_val_score(RandomForestClassifier(), X_train, y_train_no_id, cv = 3)\n",
    "print(\"RF's score: %f\" % scores.mean())\n",
    "\n",
    "# KNN\n",
    "scores = cross_val_score(KNeighborsClassifier(), X_train, y_train_no_id, cv = 3)\n",
    "print(\"KNN's score: %f\" % scores.mean())\n",
    "\n",
    "# XGB\n",
    "scores = cross_val_score(XGBClassifier(), X_train, y_train_no_id, cv = 3)\n",
    "print(\"XGB's score: %f\" % scores.mean())\n",
    "\n",
    "### XGB에 대해 Classification Report 하나 만들어보자!\n",
    "# print(classification_report(X_train, y_train_no_id))\n",
    "\n",
    "# 3. XGBoost를 최종 모델로 선정하고, y값 predict\n",
    "final_model = XGBClassifier()\n",
    "final_model.fit(X_train, y_train_no_id)\n",
    "y_pred_proba = final_model.predict_proba(X_test)[:,1]  # 1일 확률\n",
    "# print(y_pred_proba)\n",
    "\n",
    "# y_pred = final_model.predict(X_test)   # 그냥 그 값 자체를 predict 하는 경우\n",
    "# print(y_pred)\n",
    "\n",
    "# 4. 기존 데이터 프레임에 붙이고 저장\n",
    "submit = pd.DataFrame({'ID': x_test.index,     # x_test의 index값이 곧 ID값\n",
    "                      'Y_proba': y_pred_proba})\n",
    "# submit\n",
    "submit.to_csv('submit.csv')"
   ]
  },
  {
   "cell_type": "code",
   "execution_count": null,
   "id": "68d4c248",
   "metadata": {},
   "outputs": [],
   "source": []
  },
  {
   "cell_type": "code",
   "execution_count": null,
   "id": "29779f86",
   "metadata": {},
   "outputs": [],
   "source": []
  },
  {
   "cell_type": "code",
   "execution_count": null,
   "id": "1f87aae7",
   "metadata": {},
   "outputs": [],
   "source": []
  }
 ],
 "metadata": {
  "kernelspec": {
   "display_name": "Python 3",
   "language": "python",
   "name": "python3"
  },
  "language_info": {
   "codemirror_mode": {
    "name": "ipython",
    "version": 3
   },
   "file_extension": ".py",
   "mimetype": "text/x-python",
   "name": "python",
   "nbconvert_exporter": "python",
   "pygments_lexer": "ipython3",
   "version": "3.7.3"
  },
  "toc": {
   "base_numbering": 1,
   "nav_menu": {},
   "number_sections": true,
   "sideBar": true,
   "skip_h1_title": false,
   "title_cell": "Table of Contents",
   "title_sidebar": "Contents",
   "toc_cell": false,
   "toc_position": {
    "height": "calc(100% - 180px)",
    "left": "10px",
    "top": "150px",
    "width": "303.825px"
   },
   "toc_section_display": true,
   "toc_window_display": true
  },
  "varInspector": {
   "cols": {
    "lenName": 16,
    "lenType": 16,
    "lenVar": 40
   },
   "kernels_config": {
    "python": {
     "delete_cmd_postfix": "",
     "delete_cmd_prefix": "del ",
     "library": "var_list.py",
     "varRefreshCmd": "print(var_dic_list())"
    },
    "r": {
     "delete_cmd_postfix": ") ",
     "delete_cmd_prefix": "rm(",
     "library": "var_list.r",
     "varRefreshCmd": "cat(var_dic_list()) "
    }
   },
   "types_to_exclude": [
    "module",
    "function",
    "builtin_function_or_method",
    "instance",
    "_Feature"
   ],
   "window_display": false
  }
 },
 "nbformat": 4,
 "nbformat_minor": 5
}
